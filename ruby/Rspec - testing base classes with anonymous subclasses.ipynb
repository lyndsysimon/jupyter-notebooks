{
 "cells": [
  {
   "cell_type": "code",
   "execution_count": 3,
   "metadata": {
    "collapsed": false
   },
   "outputs": [
    {
     "data": {
      "text/plain": [
       ":double_members"
      ]
     },
     "execution_count": 3,
     "metadata": {},
     "output_type": "execute_result"
    }
   ],
   "source": [
    "class BaseClass\n",
    "  # \"members\" is a class instance variable\n",
    "  #   ref: http://stackoverflow.com/questions/15773552/ruby-class-instance-variable-vs-class-variable#15773671\n",
    "  def self.members\n",
    "    @members ||= []\n",
    "  end\n",
    "\n",
    "  def members\n",
    "    self.class.members\n",
    "  end\n",
    "  \n",
    "  # Adds a \"member\"\n",
    "  def self.member(name)\n",
    "    members << name\n",
    "  end\n",
    "  \n",
    "  def self.double_members\n",
    "    members.map { |x| x*2 }\n",
    "  end\n",
    "end"
   ]
  },
  {
   "cell_type": "markdown",
   "metadata": {},
   "source": [
    "## Usage Examples\n",
    "\n",
    "`FirstChild` has three members defined; `FirstChild.double_members` prints them as expected."
   ]
  },
  {
   "cell_type": "code",
   "execution_count": 4,
   "metadata": {
    "collapsed": false
   },
   "outputs": [
    {
     "data": {
      "text/plain": [
       "[2, 4, 6]"
      ]
     },
     "execution_count": 4,
     "metadata": {},
     "output_type": "execute_result"
    }
   ],
   "source": [
    "class FirstChild < BaseClass\n",
    "  member 1\n",
    "  member 2\n",
    "  member 3\n",
    "end\n",
    "\n",
    "FirstChild.double_members"
   ]
  },
  {
   "cell_type": "markdown",
   "metadata": {},
   "source": [
    "`SecondChild` has no members defined; `SecondChild.double_members` prints nothing."
   ]
  },
  {
   "cell_type": "code",
   "execution_count": 5,
   "metadata": {
    "collapsed": false
   },
   "outputs": [
    {
     "data": {
      "text/plain": [
       "[]"
      ]
     },
     "execution_count": 5,
     "metadata": {},
     "output_type": "execute_result"
    }
   ],
   "source": [
    "class SecondChild < BaseClass\n",
    "end\n",
    "\n",
    "SecondChild.double_members"
   ]
  },
  {
   "cell_type": "code",
   "execution_count": 24,
   "metadata": {
    "collapsed": false
   },
   "outputs": [
    {
     "data": {
      "text/plain": [
       "true"
      ]
     },
     "execution_count": 24,
     "metadata": {},
     "output_type": "execute_result"
    }
   ],
   "source": [
    "require 'rspec'\n",
    "\n",
    "base_class_spec = describe BaseClass do\n",
    "  \n",
    "  # ref: http://betterspecs.org/#subject\n",
    "  subject { Class.new BaseClass }\n",
    "  \n",
    "  describe '#double_members' do\n",
    "    it 'works with no members' do\n",
    "      expect(subject.double_members).to eq([])\n",
    "    end\n",
    "    \n",
    "    it 'works with many members' do\n",
    "      subject.class_eval do\n",
    "        member 1\n",
    "        member 2\n",
    "        member 3\n",
    "        member 4\n",
    "        member 5\n",
    "      end\n",
    "      expect(subject.double_members).to eq [2, 4, 6, 8, 10]\n",
    "    end\n",
    "    \n",
    "    it 'works with one member' do\n",
    "      subject.class_eval do\n",
    "        member 10\n",
    "      end\n",
    "      expect(subject.double_members).to eq [20]\n",
    "    end\n",
    "  end\n",
    "end\n",
    "\n",
    "base_class_spec.run"
   ]
  },
  {
   "cell_type": "markdown",
   "metadata": {},
   "source": [
    "The magic here is that because \"works with one member\" comes after \"works with many members\", if `subject` wasn't reassigned each example, the members from the previous tests would still be present. As a result, our tests woudl be dependent upon the order in which they were run."
   ]
  }
 ],
 "metadata": {
  "kernelspec": {
   "display_name": "Ruby 2.3.1",
   "language": "ruby",
   "name": "ruby"
  },
  "language_info": {
   "file_extension": ".rb",
   "mimetype": "application/x-ruby",
   "name": "ruby",
   "version": "2.3.1"
  }
 },
 "nbformat": 4,
 "nbformat_minor": 1
}
