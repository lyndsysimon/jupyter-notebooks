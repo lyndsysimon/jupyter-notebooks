{
 "cells": [
  {
   "cell_type": "markdown",
   "metadata": {},
   "source": [
    "# Raising\n",
    "\n",
    "Ruby exceptions are *raised*, not *thrown*. There is a separate flow control mechanism (`throw`/`catch`) that uses that terminology.\n",
    "\n",
    "The simplest way to raise an exception will raise a `RuntimeError`."
   ]
  },
  {
   "cell_type": "code",
   "execution_count": 86,
   "metadata": {
    "collapsed": false
   },
   "outputs": [
    {
     "ename": "RuntimeError",
     "evalue": "",
     "output_type": "error",
     "traceback": [
      "\u001b[31mRuntimeError\u001b[0m: ",
      "\u001b[37m<main>:in `<main>'\u001b[0m",
      "\u001b[37m/Users/lyndsysimon/.rvm/gems/ruby-2.3.1/gems/iruby-0.2.9/lib/iruby/backend.rb:44:in `eval'\u001b[0m",
      "\u001b[37m/Users/lyndsysimon/.rvm/gems/ruby-2.3.1/gems/iruby-0.2.9/lib/iruby/backend.rb:44:in `eval'\u001b[0m",
      "\u001b[37m/Users/lyndsysimon/.rvm/gems/ruby-2.3.1/gems/iruby-0.2.9/lib/iruby/backend.rb:12:in `eval'\u001b[0m",
      "\u001b[37m/Users/lyndsysimon/.rvm/gems/ruby-2.3.1/gems/iruby-0.2.9/lib/iruby/kernel.rb:87:in `execute_request'\u001b[0m",
      "\u001b[37m/Users/lyndsysimon/.rvm/gems/ruby-2.3.1/gems/iruby-0.2.9/lib/iruby/kernel.rb:47:in `dispatch'\u001b[0m",
      "\u001b[37m/Users/lyndsysimon/.rvm/gems/ruby-2.3.1/gems/iruby-0.2.9/lib/iruby/kernel.rb:37:in `run'\u001b[0m",
      "\u001b[37m/Users/lyndsysimon/.rvm/gems/ruby-2.3.1/gems/iruby-0.2.9/lib/iruby/command.rb:70:in `run_kernel'\u001b[0m",
      "\u001b[37m/Users/lyndsysimon/.rvm/gems/ruby-2.3.1/gems/iruby-0.2.9/lib/iruby/command.rb:34:in `run'\u001b[0m",
      "\u001b[37m/Users/lyndsysimon/.rvm/gems/ruby-2.3.1/gems/iruby-0.2.9/bin/iruby:5:in `<top (required)>'\u001b[0m",
      "\u001b[37m/Users/lyndsysimon/.rvm/gems/ruby-2.3.1/bin/iruby:23:in `load'\u001b[0m",
      "\u001b[37m/Users/lyndsysimon/.rvm/gems/ruby-2.3.1/bin/iruby:23:in `<main>'\u001b[0m",
      "\u001b[37m/Users/lyndsysimon/.rvm/gems/ruby-2.3.1/bin/ruby_executable_hooks:15:in `eval'\u001b[0m",
      "\u001b[37m/Users/lyndsysimon/.rvm/gems/ruby-2.3.1/bin/ruby_executable_hooks:15:in `<main>'\u001b[0m"
     ]
    }
   ],
   "source": [
    "raise"
   ]
  },
  {
   "cell_type": "markdown",
   "metadata": {},
   "source": [
    "`raise` can also raise exceptions of a specific type, or with a message string. Both arguments are optional."
   ]
  },
  {
   "cell_type": "code",
   "execution_count": 85,
   "metadata": {
    "collapsed": false
   },
   "outputs": [
    {
     "ename": "TypeError",
     "evalue": "Improper Type",
     "output_type": "error",
     "traceback": [
      "\u001b[31mTypeError\u001b[0m: Improper Type",
      "\u001b[37m<main>:in `<main>'\u001b[0m",
      "\u001b[37m/Users/lyndsysimon/.rvm/gems/ruby-2.3.1/gems/iruby-0.2.9/lib/iruby/backend.rb:44:in `eval'\u001b[0m",
      "\u001b[37m/Users/lyndsysimon/.rvm/gems/ruby-2.3.1/gems/iruby-0.2.9/lib/iruby/backend.rb:44:in `eval'\u001b[0m",
      "\u001b[37m/Users/lyndsysimon/.rvm/gems/ruby-2.3.1/gems/iruby-0.2.9/lib/iruby/backend.rb:12:in `eval'\u001b[0m",
      "\u001b[37m/Users/lyndsysimon/.rvm/gems/ruby-2.3.1/gems/iruby-0.2.9/lib/iruby/kernel.rb:87:in `execute_request'\u001b[0m",
      "\u001b[37m/Users/lyndsysimon/.rvm/gems/ruby-2.3.1/gems/iruby-0.2.9/lib/iruby/kernel.rb:47:in `dispatch'\u001b[0m",
      "\u001b[37m/Users/lyndsysimon/.rvm/gems/ruby-2.3.1/gems/iruby-0.2.9/lib/iruby/kernel.rb:37:in `run'\u001b[0m",
      "\u001b[37m/Users/lyndsysimon/.rvm/gems/ruby-2.3.1/gems/iruby-0.2.9/lib/iruby/command.rb:70:in `run_kernel'\u001b[0m",
      "\u001b[37m/Users/lyndsysimon/.rvm/gems/ruby-2.3.1/gems/iruby-0.2.9/lib/iruby/command.rb:34:in `run'\u001b[0m",
      "\u001b[37m/Users/lyndsysimon/.rvm/gems/ruby-2.3.1/gems/iruby-0.2.9/bin/iruby:5:in `<top (required)>'\u001b[0m",
      "\u001b[37m/Users/lyndsysimon/.rvm/gems/ruby-2.3.1/bin/iruby:23:in `load'\u001b[0m",
      "\u001b[37m/Users/lyndsysimon/.rvm/gems/ruby-2.3.1/bin/iruby:23:in `<main>'\u001b[0m",
      "\u001b[37m/Users/lyndsysimon/.rvm/gems/ruby-2.3.1/bin/ruby_executable_hooks:15:in `eval'\u001b[0m",
      "\u001b[37m/Users/lyndsysimon/.rvm/gems/ruby-2.3.1/bin/ruby_executable_hooks:15:in `<main>'\u001b[0m"
     ]
    }
   ],
   "source": [
    "raise TypeError, \"Improper Type\""
   ]
  },
  {
   "cell_type": "markdown",
   "metadata": {},
   "source": [
    "# Exceptions are just classes\n",
    "\n",
    "Exceptions in Ruby are classes, descending from the `Exception` class. User-defined exceptions should be descendants of `StandardError`. This is convention, but also allows exceptions like `SystemExitError` to not be caught and suppressed by programs. Because `StandardError` is raised by Ruby itself as a response to an OS signal, suppressing it could result in a program refusing to exit."
   ]
  },
  {
   "cell_type": "code",
   "execution_count": 94,
   "metadata": {
    "collapsed": false
   },
   "outputs": [
    {
     "ename": "OnFireError",
     "evalue": "Stuff's on fire, yo.",
     "output_type": "error",
     "traceback": [
      "\u001b[31mOnFireError\u001b[0m: Stuff's on fire, yo.",
      "\u001b[37m<main>:3:in `<main>'\u001b[0m",
      "\u001b[37m/Users/lyndsysimon/.rvm/gems/ruby-2.3.1/gems/iruby-0.2.9/lib/iruby/backend.rb:44:in `eval'\u001b[0m",
      "\u001b[37m/Users/lyndsysimon/.rvm/gems/ruby-2.3.1/gems/iruby-0.2.9/lib/iruby/backend.rb:44:in `eval'\u001b[0m",
      "\u001b[37m/Users/lyndsysimon/.rvm/gems/ruby-2.3.1/gems/iruby-0.2.9/lib/iruby/backend.rb:12:in `eval'\u001b[0m",
      "\u001b[37m/Users/lyndsysimon/.rvm/gems/ruby-2.3.1/gems/iruby-0.2.9/lib/iruby/kernel.rb:87:in `execute_request'\u001b[0m",
      "\u001b[37m/Users/lyndsysimon/.rvm/gems/ruby-2.3.1/gems/iruby-0.2.9/lib/iruby/kernel.rb:47:in `dispatch'\u001b[0m",
      "\u001b[37m/Users/lyndsysimon/.rvm/gems/ruby-2.3.1/gems/iruby-0.2.9/lib/iruby/kernel.rb:37:in `run'\u001b[0m",
      "\u001b[37m/Users/lyndsysimon/.rvm/gems/ruby-2.3.1/gems/iruby-0.2.9/lib/iruby/command.rb:70:in `run_kernel'\u001b[0m",
      "\u001b[37m/Users/lyndsysimon/.rvm/gems/ruby-2.3.1/gems/iruby-0.2.9/lib/iruby/command.rb:34:in `run'\u001b[0m",
      "\u001b[37m/Users/lyndsysimon/.rvm/gems/ruby-2.3.1/gems/iruby-0.2.9/bin/iruby:5:in `<top (required)>'\u001b[0m",
      "\u001b[37m/Users/lyndsysimon/.rvm/gems/ruby-2.3.1/bin/iruby:23:in `load'\u001b[0m",
      "\u001b[37m/Users/lyndsysimon/.rvm/gems/ruby-2.3.1/bin/iruby:23:in `<main>'\u001b[0m",
      "\u001b[37m/Users/lyndsysimon/.rvm/gems/ruby-2.3.1/bin/ruby_executable_hooks:15:in `eval'\u001b[0m",
      "\u001b[37m/Users/lyndsysimon/.rvm/gems/ruby-2.3.1/bin/ruby_executable_hooks:15:in `<main>'\u001b[0m"
     ]
    }
   ],
   "source": [
    "class OnFireError < StandardError\n",
    "end\n",
    "\n",
    "raise OnFireError, \"Stuff's on fire, yo.\""
   ]
  },
  {
   "cell_type": "markdown",
   "metadata": {},
   "source": [
    "# Handling exceptions\n",
    "\n",
    "Exceptions are handled with a `rescue` block."
   ]
  },
  {
   "cell_type": "code",
   "execution_count": 95,
   "metadata": {
    "collapsed": false
   },
   "outputs": [
    {
     "name": "stdout",
     "output_type": "stream",
     "text": [
      "This is fine.\n"
     ]
    }
   ],
   "source": [
    "def handled_exception\n",
    "  raise OnFireError\n",
    "rescue\n",
    "  puts \"This is fine.\"\n",
    "end\n",
    "\n",
    "handled_exception"
   ]
  },
  {
   "cell_type": "code",
   "execution_count": 96,
   "metadata": {
    "collapsed": false
   },
   "outputs": [
    {
     "name": "stdout",
     "output_type": "stream",
     "text": [
      "This is fine.\n"
     ]
    }
   ],
   "source": [
    "begin\n",
    "  raise OnFireError\n",
    "rescue\n",
    "  puts \"This is fine.\"\n",
    "end"
   ]
  },
  {
   "cell_type": "markdown",
   "metadata": {},
   "source": [
    "\"Bare rescue blocks\" are those which do not specify the exception type - they are almost always a *bad idea*. Instead, specify the exception type that you're expecting to handle."
   ]
  },
  {
   "cell_type": "code",
   "execution_count": 97,
   "metadata": {
    "collapsed": false
   },
   "outputs": [
    {
     "name": "stdout",
     "output_type": "stream",
     "text": [
      "This is fine.\n"
     ]
    }
   ],
   "source": [
    "begin\n",
    "  raise OnFireError\n",
    "rescue OnFireError\n",
    "  puts \"This is fine.\"\n",
    "end"
   ]
  },
  {
   "cell_type": "markdown",
   "metadata": {},
   "source": [
    "Multiple `rescue` blocks can be used if there are multiple exception types you'd like to handle."
   ]
  },
  {
   "cell_type": "code",
   "execution_count": 2,
   "metadata": {
    "collapsed": false
   },
   "outputs": [
    {
     "name": "stdout",
     "output_type": "stream",
     "text": [
      "val is too small\n",
      "val is just right\n",
      "val is too big\n"
     ]
    }
   ],
   "source": [
    "class TooSmallError < RangeError\n",
    "end\n",
    "\n",
    "class TooLargeError < RangeError\n",
    "end\n",
    "\n",
    "def goldilocks(val)\n",
    "  raise TooSmallError if val < 0\n",
    "  raise TooLargeError if val > 10\n",
    "  puts 'val is just right'\n",
    "rescue TooSmallError\n",
    "  puts \"val is too small\"\n",
    "rescue TooLargeError\n",
    "  puts \"val is too big\"\n",
    "end\n",
    "\n",
    "goldilocks -1\n",
    "goldilocks 5\n",
    "goldilocks 99"
   ]
  },
  {
   "cell_type": "markdown",
   "metadata": {},
   "source": [
    "You can assign the exception to a variable if you need access to it inside the `rescue` block"
   ]
  },
  {
   "cell_type": "code",
   "execution_count": 98,
   "metadata": {
    "collapsed": false
   },
   "outputs": [
    {
     "name": "stdout",
     "output_type": "stream",
     "text": [
      "Things are on fire, yo.\n"
     ]
    }
   ],
   "source": [
    "begin\n",
    "  raise OnFireError, \"Things are on fire, yo.\"\n",
    "rescue OnFireError => e\n",
    "  puts e.message\n",
    "end"
   ]
  },
  {
   "cell_type": "markdown",
   "metadata": {},
   "source": [
    "If you have code that needs to always execute even if there is an error (e.g., closing a DB connection), use an `ensure` block"
   ]
  },
  {
   "cell_type": "code",
   "execution_count": 102,
   "metadata": {
    "collapsed": false
   },
   "outputs": [
    {
     "name": "stdout",
     "output_type": "stream",
     "text": [
      "before it's raised\n",
      "rescue block\n",
      "ensure block\n"
     ]
    }
   ],
   "source": [
    "begin\n",
    "  puts \"before it's raised\"\n",
    "  raise\n",
    "  puts \"after it's raised\"\n",
    "rescue\n",
    "  puts \"rescue block\"\n",
    "ensure\n",
    "  puts \"ensure block\"\n",
    "end"
   ]
  }
 ],
 "metadata": {
  "kernelspec": {
   "display_name": "Ruby 2.3.1",
   "language": "ruby",
   "name": "ruby"
  },
  "language_info": {
   "file_extension": ".rb",
   "mimetype": "application/x-ruby",
   "name": "ruby",
   "version": "2.3.1"
  }
 },
 "nbformat": 4,
 "nbformat_minor": 1
}
