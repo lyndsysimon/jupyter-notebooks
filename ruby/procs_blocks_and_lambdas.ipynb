{
 "cells": [
  {
   "cell_type": "markdown",
   "metadata": {},
   "source": [
    "There are three types of closures in Ruby: blocks, Procs, and lambdas.\n",
    "  \n",
    "# Blocks\n",
    "\n",
    "Blocks are the simplest type. Generally, they are used whenever you want to perform a task upon something. A very common example would be when you want to do execute code for each member of an Array."
   ]
  },
  {
   "cell_type": "code",
   "execution_count": 1,
   "metadata": {
    "collapsed": false
   },
   "outputs": [
    {
     "name": "stdout",
     "output_type": "stream",
     "text": [
      "1 squared is 1\n",
      "2 squared is 4\n",
      "3 squared is 9\n"
     ]
    },
    {
     "data": {
      "text/plain": [
       "[1, 2, 3]"
      ]
     },
     "execution_count": 1,
     "metadata": {},
     "output_type": "execute_result"
    }
   ],
   "source": [
    "[1, 2, 3].each { |x| puts \"#{x} squared is #{x**2}\" }"
   ]
  },
  {
   "cell_type": "code",
   "execution_count": 2,
   "metadata": {
    "collapsed": false
   },
   "outputs": [
    {
     "name": "stdout",
     "output_type": "stream",
     "text": [
      "1 squared is 1\n",
      "2 squared is 4\n",
      "3 squared is 9\n"
     ]
    },
    {
     "data": {
      "text/plain": [
       "[1, 2, 3]"
      ]
     },
     "execution_count": 2,
     "metadata": {},
     "output_type": "execute_result"
    }
   ],
   "source": [
    "[1, 2, 3].each do |x|\n",
    "  puts \"#{x} squared is #{x**2}\"\n",
    "end"
   ]
  },
  {
   "cell_type": "markdown",
   "metadata": {},
   "source": [
    "Because blocks are closures, variables defined inside them are not available outside."
   ]
  },
  {
   "cell_type": "code",
   "execution_count": 3,
   "metadata": {
    "collapsed": false
   },
   "outputs": [
    {
     "name": "stdout",
     "output_type": "stream",
     "text": [
      "'foo' is not defined\n"
     ]
    }
   ],
   "source": [
    "[1, 2, 3].each do |x|\n",
    "  foo = x\n",
    "end\n",
    "\n",
    "if defined? foo\n",
    "  puts \"'foo' is defined\"\n",
    "else\n",
    "  puts \"'foo' is not defined\"\n",
    "end"
   ]
  },
  {
   "cell_type": "markdown",
   "metadata": {},
   "source": [
    "... unless the variable was defined in the outer scope"
   ]
  },
  {
   "cell_type": "code",
   "execution_count": 4,
   "metadata": {
    "collapsed": false
   },
   "outputs": [
    {
     "name": "stdout",
     "output_type": "stream",
     "text": [
      "'bar' is defined\n"
     ]
    }
   ],
   "source": [
    "bar = nil\n",
    "\n",
    "[1, 2, 3].each do |x|\n",
    "  bar = x\n",
    "end\n",
    "\n",
    "if defined? bar\n",
    "  puts \"'bar' is defined\"\n",
    "else\n",
    "  puts \"'bar' is not defined\"\n",
    "end"
   ]
  },
  {
   "cell_type": "markdown",
   "metadata": {},
   "source": [
    "Only one block may be passed to a method - in fact, blocks are very special in this regard. They don't show up in a method's `*args` splat, and must be the last argument. Finally, they are provided to the function separately from other arguments.\n",
    "\n",
    "The `yield` keyword is used to execute a block inside a function that accepts one."
   ]
  },
  {
   "cell_type": "code",
   "execution_count": 5,
   "metadata": {
    "collapsed": false
   },
   "outputs": [
    {
     "name": "stdout",
     "output_type": "stream",
     "text": [
      "3 args provided:\n",
      " - 0\n",
      " - 1\n",
      " - 2\n",
      "this is a block\n"
     ]
    }
   ],
   "source": [
    "def takes_a_block(*args)\n",
    "  puts \"#{args.count} args provided:\"\n",
    "  args.each { |x| puts \" - #{x}\"}\n",
    "  yield\n",
    "end\n",
    "\n",
    "takes_a_block(0, 1, 2) { puts 'this is a block' }"
   ]
  },
  {
   "cell_type": "markdown",
   "metadata": {},
   "source": [
    "The `yield` keyword can also be used to pass arguments from the method to the block being passed into it. Note that blocks which recieve more or fewer arguments that are defined ignore the mismatch."
   ]
  },
  {
   "cell_type": "code",
   "execution_count": 6,
   "metadata": {
    "collapsed": false
   },
   "outputs": [
    {
     "name": "stdout",
     "output_type": "stream",
     "text": [
      "`x` is 10\n",
      "`x` is 10... but if `y` isn't called, no exception is raised.\n",
      "What's an `x`?\n"
     ]
    }
   ],
   "source": [
    "def passes_ten_to_a_block\n",
    "  yield 10\n",
    "end\n",
    "\n",
    "passes_ten_to_a_block { |x|\n",
    "  puts \"`x` is #{x}\"\n",
    "}\n",
    "\n",
    "passes_ten_to_a_block { |x, y|\n",
    "  puts \"`x` is #{x}... but if `y` isn't called, no exception is raised.\"\n",
    "}\n",
    "\n",
    "passes_ten_to_a_block {\n",
    "  puts \"What's an `x`?\"\n",
    "}"
   ]
  },
  {
   "cell_type": "markdown",
   "metadata": {},
   "source": [
    "# Procs\n",
    "\n",
    "Unlike blocks, procs are objects - instances of the `Proc` class. They are executed by calling the `Proc#call` method."
   ]
  },
  {
   "cell_type": "code",
   "execution_count": 7,
   "metadata": {
    "collapsed": false
   },
   "outputs": [
    {
     "name": "stdout",
     "output_type": "stream",
     "text": [
      "Proc\n",
      "I'm a Proc instance.\n",
      "\n"
     ]
    }
   ],
   "source": [
    "foo_proc = Proc.new { puts \"I'm a Proc instance.\" }\n",
    "\n",
    "puts foo_proc.class\n",
    "puts foo_proc.call"
   ]
  },
  {
   "cell_type": "markdown",
   "metadata": {},
   "source": [
    "Unlike blocks, it's possible to pass multiple procs as arguments to a method."
   ]
  },
  {
   "cell_type": "markdown",
   "metadata": {},
   "source": [
    "foo_proc = Proc.new { puts 'foo' }\n",
    "bar_proc = Proc.new { puts 'bar' }\n",
    "\n",
    "def choose(one, two, choice)\n",
    "  case choice\n",
    "  when 1\n",
    "    one.call\n",
    "  when 2\n",
    "    two.call\n",
    "  end\n",
    "end\n",
    "\n",
    "choose foo_proc, bar_proc, 1\n",
    "choose foo_proc, bar_proc, 2"
   ]
  },
  {
   "cell_type": "markdown",
   "metadata": {},
   "source": [
    "In fact... a block passed into a method can be converted to a proc by using the `&` prefix."
   ]
  },
  {
   "cell_type": "code",
   "execution_count": 8,
   "metadata": {
    "collapsed": false
   },
   "outputs": [
    {
     "name": "stdout",
     "output_type": "stream",
     "text": [
      "Calling #<Proc:0x007fd5bd9dc2f0@<main>:5>, instance of Proc.\n",
      "This is a block, right? It was when I defined it at least.\n",
      "\n"
     ]
    }
   ],
   "source": [
    "def my_func(&block)\n",
    "  puts \"Calling #{block}, instance of #{block.class}.\"\n",
    "  puts block.call\n",
    "end\n",
    "\n",
    "my_func do\n",
    "  puts \"This is a block, right? It was when I defined it at least.\"\n",
    "end"
   ]
  },
  {
   "cell_type": "markdown",
   "metadata": {},
   "source": [
    "# Lambdas\n",
    "\n",
    "First off - lambdas are procs, but with a few different behaviors. Here's the simplest way to define a lambda."
   ]
  },
  {
   "cell_type": "code",
   "execution_count": 9,
   "metadata": {
    "collapsed": false
   },
   "outputs": [
    {
     "data": {
      "text/plain": [
       "#<Proc:0x007fd5bd0455c0@<main>:0 (lambda)>"
      ]
     },
     "execution_count": 9,
     "metadata": {},
     "output_type": "execute_result"
    }
   ],
   "source": [
    "lambda { |x| puts x }"
   ]
  },
  {
   "cell_type": "markdown",
   "metadata": {
    "collapsed": false
   },
   "source": [
    "Unlike procs, lambdas validate the number of arguments passed to it when called."
   ]
  },
  {
   "cell_type": "code",
   "execution_count": 10,
   "metadata": {
    "collapsed": false
   },
   "outputs": [
    {
     "ename": "ArgumentError",
     "evalue": "wrong number of arguments (given 0, expected 1)",
     "output_type": "error",
     "traceback": [
      "\u001b[31mArgumentError\u001b[0m: wrong number of arguments (given 0, expected 1)",
      "\u001b[37m<main>:in `block in <main>'\u001b[0m",
      "\u001b[37m<main>:1:in `<main>'\u001b[0m",
      "\u001b[37m/Users/lyndsysimon/.rvm/gems/ruby-2.3.1/gems/iruby-0.2.9/lib/iruby/backend.rb:44:in `eval'\u001b[0m",
      "\u001b[37m/Users/lyndsysimon/.rvm/gems/ruby-2.3.1/gems/iruby-0.2.9/lib/iruby/backend.rb:44:in `eval'\u001b[0m",
      "\u001b[37m/Users/lyndsysimon/.rvm/gems/ruby-2.3.1/gems/iruby-0.2.9/lib/iruby/backend.rb:12:in `eval'\u001b[0m",
      "\u001b[37m/Users/lyndsysimon/.rvm/gems/ruby-2.3.1/gems/iruby-0.2.9/lib/iruby/kernel.rb:87:in `execute_request'\u001b[0m",
      "\u001b[37m/Users/lyndsysimon/.rvm/gems/ruby-2.3.1/gems/iruby-0.2.9/lib/iruby/kernel.rb:47:in `dispatch'\u001b[0m",
      "\u001b[37m/Users/lyndsysimon/.rvm/gems/ruby-2.3.1/gems/iruby-0.2.9/lib/iruby/kernel.rb:37:in `run'\u001b[0m",
      "\u001b[37m/Users/lyndsysimon/.rvm/gems/ruby-2.3.1/gems/iruby-0.2.9/lib/iruby/command.rb:70:in `run_kernel'\u001b[0m",
      "\u001b[37m/Users/lyndsysimon/.rvm/gems/ruby-2.3.1/gems/iruby-0.2.9/lib/iruby/command.rb:34:in `run'\u001b[0m",
      "\u001b[37m/Users/lyndsysimon/.rvm/gems/ruby-2.3.1/gems/iruby-0.2.9/bin/iruby:5:in `<top (required)>'\u001b[0m",
      "\u001b[37m/Users/lyndsysimon/.rvm/gems/ruby-2.3.1/bin/iruby:23:in `load'\u001b[0m",
      "\u001b[37m/Users/lyndsysimon/.rvm/gems/ruby-2.3.1/bin/iruby:23:in `<main>'\u001b[0m",
      "\u001b[37m/Users/lyndsysimon/.rvm/gems/ruby-2.3.1/bin/ruby_executable_hooks:15:in `eval'\u001b[0m",
      "\u001b[37m/Users/lyndsysimon/.rvm/gems/ruby-2.3.1/bin/ruby_executable_hooks:15:in `<main>'\u001b[0m"
     ]
    }
   ],
   "source": [
    "lam = lambda { |x| puts x }\n",
    "lam.call"
   ]
  },
  {
   "cell_type": "markdown",
   "metadata": {
    "collapsed": false
   },
   "source": [
    "A more subtle but very important difference between lambdas and procs is the way the `return` keyword is treated. In a lambda, `return` ends execution of the lambda itself and continues to the next line after it was called. In a proc, `return` first goes back out to the line where it was called, and then *`returns` from that context*."
   ]
  },
  {
   "cell_type": "code",
   "execution_count": 11,
   "metadata": {
    "collapsed": false
   },
   "outputs": [
    {
     "name": "stdout",
     "output_type": "stream",
     "text": [
      "Before calling the lambda\n",
      "In the lambda\n",
      "After calling the lambda\n"
     ]
    }
   ],
   "source": [
    "def call_a_lambda\n",
    "  my_lambda = lambda {\n",
    "    puts 'In the lambda'\n",
    "    return\n",
    "  }\n",
    "  puts 'Before calling the lambda'\n",
    "  my_lambda.call\n",
    "  puts 'After calling the lambda'\n",
    "end\n",
    "\n",
    "call_a_lambda"
   ]
  },
  {
   "cell_type": "code",
   "execution_count": 12,
   "metadata": {
    "collapsed": false
   },
   "outputs": [
    {
     "name": "stdout",
     "output_type": "stream",
     "text": [
      "Before calling the proc\n",
      "In the proc\n"
     ]
    }
   ],
   "source": [
    "def call_a_proc\n",
    "  my_proc = Proc.new {\n",
    "    puts 'In the proc'\n",
    "    return\n",
    "  }\n",
    "  puts 'Before calling the proc'\n",
    "  my_proc.call\n",
    "  puts 'After calling the proc'\n",
    "end\n",
    "\n",
    "call_a_proc"
   ]
  },
  {
   "cell_type": "markdown",
   "metadata": {},
   "source": [
    "If passed a single Array, a lambda will not expand it to fill its argument list - but a proc will."
   ]
  },
  {
   "cell_type": "code",
   "execution_count": 13,
   "metadata": {
    "collapsed": false
   },
   "outputs": [
    {
     "name": "stdout",
     "output_type": "stream",
     "text": [
      "a=1, b=2, c=3\n"
     ]
    }
   ],
   "source": [
    "Proc.new { |a, b, c|\n",
    "  puts \"a=#{a}, b=#{b}, c=#{c}\"\n",
    "}.call [1, 2, 3]"
   ]
  },
  {
   "cell_type": "code",
   "execution_count": 14,
   "metadata": {
    "collapsed": false
   },
   "outputs": [
    {
     "ename": "ArgumentError",
     "evalue": "wrong number of arguments (given 1, expected 3)",
     "output_type": "error",
     "traceback": [
      "\u001b[31mArgumentError\u001b[0m: wrong number of arguments (given 1, expected 3)",
      "\u001b[37m<main>:1:in `block in <main>'\u001b[0m",
      "\u001b[37m<main>:2:in `<main>'\u001b[0m",
      "\u001b[37m/Users/lyndsysimon/.rvm/gems/ruby-2.3.1/gems/iruby-0.2.9/lib/iruby/backend.rb:44:in `eval'\u001b[0m",
      "\u001b[37m/Users/lyndsysimon/.rvm/gems/ruby-2.3.1/gems/iruby-0.2.9/lib/iruby/backend.rb:44:in `eval'\u001b[0m",
      "\u001b[37m/Users/lyndsysimon/.rvm/gems/ruby-2.3.1/gems/iruby-0.2.9/lib/iruby/backend.rb:12:in `eval'\u001b[0m",
      "\u001b[37m/Users/lyndsysimon/.rvm/gems/ruby-2.3.1/gems/iruby-0.2.9/lib/iruby/kernel.rb:87:in `execute_request'\u001b[0m",
      "\u001b[37m/Users/lyndsysimon/.rvm/gems/ruby-2.3.1/gems/iruby-0.2.9/lib/iruby/kernel.rb:47:in `dispatch'\u001b[0m",
      "\u001b[37m/Users/lyndsysimon/.rvm/gems/ruby-2.3.1/gems/iruby-0.2.9/lib/iruby/kernel.rb:37:in `run'\u001b[0m",
      "\u001b[37m/Users/lyndsysimon/.rvm/gems/ruby-2.3.1/gems/iruby-0.2.9/lib/iruby/command.rb:70:in `run_kernel'\u001b[0m",
      "\u001b[37m/Users/lyndsysimon/.rvm/gems/ruby-2.3.1/gems/iruby-0.2.9/lib/iruby/command.rb:34:in `run'\u001b[0m",
      "\u001b[37m/Users/lyndsysimon/.rvm/gems/ruby-2.3.1/gems/iruby-0.2.9/bin/iruby:5:in `<top (required)>'\u001b[0m",
      "\u001b[37m/Users/lyndsysimon/.rvm/gems/ruby-2.3.1/bin/iruby:23:in `load'\u001b[0m",
      "\u001b[37m/Users/lyndsysimon/.rvm/gems/ruby-2.3.1/bin/iruby:23:in `<main>'\u001b[0m",
      "\u001b[37m/Users/lyndsysimon/.rvm/gems/ruby-2.3.1/bin/ruby_executable_hooks:15:in `eval'\u001b[0m",
      "\u001b[37m/Users/lyndsysimon/.rvm/gems/ruby-2.3.1/bin/ruby_executable_hooks:15:in `<main>'\u001b[0m"
     ]
    }
   ],
   "source": [
    "lambda { |a, b, c|\n",
    "  puts \"a=#{a}, b=#{b}, c=#{c}\"\n",
    "}.call([1, 2, 3])"
   ]
  }
 ],
 "metadata": {
  "kernelspec": {
   "display_name": "Ruby 2.3.1",
   "language": "ruby",
   "name": "ruby"
  },
  "language_info": {
   "file_extension": ".rb",
   "mimetype": "application/x-ruby",
   "name": "ruby",
   "version": "2.3.1"
  }
 },
 "nbformat": 4,
 "nbformat_minor": 1
}
