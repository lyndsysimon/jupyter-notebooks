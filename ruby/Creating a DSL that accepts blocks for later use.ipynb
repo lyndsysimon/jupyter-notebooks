{
 "cells": [
  {
   "cell_type": "code",
   "execution_count": 4,
   "metadata": {
    "collapsed": false
   },
   "outputs": [
    {
     "data": {
      "text/plain": [
       ":foo"
      ]
     },
     "execution_count": 4,
     "metadata": {},
     "output_type": "execute_result"
    }
   ],
   "source": [
    "class MyObjectBase\n",
    "  def self.transform(name, value = nil, &block)\n",
    "    transforms[name] = value || block\n",
    "  end\n",
    "  \n",
    "  def self.transforms\n",
    "    @transforms ||= {}\n",
    "  end\n",
    "  \n",
    "  def transforms\n",
    "    self.class.transforms\n",
    "  end\n",
    "  \n",
    "  def calculate(value)\n",
    "    for name, transform in transforms\n",
    "      print \"#{name}: \"\n",
    "      if transform.respond_to? :call\n",
    "        puts transform.call(value)\n",
    "      else\n",
    "        puts transform\n",
    "      end\n",
    "    end\n",
    "  end\n",
    "end\n",
    "\n",
    "class MyObject < MyObjectBase\n",
    "  transform :one_constant, 1\n",
    "  transform :plus_one do |x|\n",
    "    x + 1\n",
    "  end\n",
    "  transform :foo do |x|\n",
    "    foo\n",
    "  end\n",
    "  \n",
    "  def self.foo\n",
    "    'self.foo'\n",
    "  end\n",
    "end"
   ]
  },
  {
   "cell_type": "code",
   "execution_count": 5,
   "metadata": {
    "collapsed": false
   },
   "outputs": [
    {
     "name": "stdout",
     "output_type": "stream",
     "text": [
      "one_constant: 1\n",
      "plus_one: 2\n",
      "foo: self.foo\n"
     ]
    },
    {
     "data": {
      "text/plain": [
       "{:one_constant=>1, :plus_one=>#<Proc:0x007fb712224950@<main>:27>, :foo=>#<Proc:0x007fb712224928@<main>:30>}"
      ]
     },
     "execution_count": 5,
     "metadata": {},
     "output_type": "execute_result"
    }
   ],
   "source": [
    "MyObject.new.calculate 1"
   ]
  },
  {
   "cell_type": "code",
   "execution_count": null,
   "metadata": {
    "collapsed": true
   },
   "outputs": [],
   "source": []
  }
 ],
 "metadata": {
  "kernelspec": {
   "display_name": "Ruby 2.3.1",
   "language": "ruby",
   "name": "ruby"
  },
  "language_info": {
   "file_extension": ".rb",
   "mimetype": "application/x-ruby",
   "name": "ruby",
   "version": "2.3.1"
  }
 },
 "nbformat": 4,
 "nbformat_minor": 1
}
