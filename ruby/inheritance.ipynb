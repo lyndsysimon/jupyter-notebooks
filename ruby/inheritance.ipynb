{
 "cells": [
  {
   "cell_type": "markdown",
   "metadata": {},
   "source": [
    "The general order of method resolution:\n",
    "\n",
    "1. Class methods\n",
    "2. Module methods (last added to first added)\n",
    "3. Parent class methods"
   ]
  },
  {
   "cell_type": "code",
   "execution_count": 1,
   "metadata": {
    "collapsed": false
   },
   "outputs": [
    {
     "name": "stdout",
     "output_type": "stream",
     "text": [
      "ChildClass\n",
      "IncludedModuleTwo\n",
      "IncludedModuleOne\n",
      "ParentClass\n",
      "ParentIncludedModuleTwo\n",
      "ParentIncludedModuleOne\n",
      "GrandParentClass\n"
     ]
    }
   ],
   "source": [
    "module IncludedModuleOne\n",
    "  def foo\n",
    "    puts 'IncludedModuleOne'\n",
    "    super\n",
    "  end\n",
    "end\n",
    "\n",
    "module IncludedModuleTwo\n",
    "  def foo\n",
    "    puts 'IncludedModuleTwo'\n",
    "    super\n",
    "  end\n",
    "end\n",
    "\n",
    "module ParentIncludedModuleOne\n",
    "  def foo\n",
    "    puts 'ParentIncludedModuleOne'\n",
    "    super\n",
    "  end\n",
    "end\n",
    "\n",
    "module ParentIncludedModuleTwo\n",
    "  def foo\n",
    "    puts 'ParentIncludedModuleTwo'\n",
    "    super\n",
    "  end\n",
    "end\n",
    "\n",
    "class GrandParentClass\n",
    "  def foo\n",
    "    puts 'GrandParentClass'\n",
    "  end\n",
    "end\n",
    "\n",
    "class ParentClass < GrandParentClass\n",
    "  include ParentIncludedModuleOne\n",
    "  include ParentIncludedModuleTwo\n",
    "  \n",
    "  def foo\n",
    "    puts 'ParentClass'\n",
    "    super\n",
    "  end\n",
    "end\n",
    "\n",
    "class ChildClass < ParentClass\n",
    "  include IncludedModuleOne\n",
    "  include IncludedModuleTwo\n",
    "\n",
    "  def foo\n",
    "    puts 'ChildClass'\n",
    "    super\n",
    "  end\n",
    "end\n",
    "\n",
    "ChildClass.new.foo"
   ]
  },
  {
   "cell_type": "markdown",
   "metadata": {},
   "source": [
    "Module#prepend breaks changes this order to:\n",
    "\n",
    "1. Prepended module's methods\n",
    "1. Class methods\n",
    "2. Module methods (last added to first added)\n",
    "3. Parent class methods"
   ]
  },
  {
   "cell_type": "code",
   "execution_count": 4,
   "metadata": {
    "collapsed": false
   },
   "outputs": [
    {
     "name": "stdout",
     "output_type": "stream",
     "text": [
      "IncludedModuleTwo\n",
      "IncludedModuleOne\n",
      "PrependedChildClass\n",
      "ParentClass\n",
      "ParentIncludedModuleTwo\n",
      "ParentIncludedModuleOne\n",
      "GrandParentClass\n"
     ]
    }
   ],
   "source": [
    "class PrependedChildClass < ParentClass\n",
    "  prepend IncludedModuleOne\n",
    "  prepend IncludedModuleTwo\n",
    "  \n",
    "  def foo\n",
    "    puts 'PrependedChildClass'\n",
    "    super\n",
    "  end\n",
    "end\n",
    "\n",
    "PrependedChildClass.new.foo"
   ]
  }
 ],
 "metadata": {
  "kernelspec": {
   "display_name": "Ruby 2.3.1",
   "language": "ruby",
   "name": "ruby"
  },
  "language_info": {
   "file_extension": ".rb",
   "mimetype": "application/x-ruby",
   "name": "ruby",
   "version": "2.3.1"
  }
 },
 "nbformat": 4,
 "nbformat_minor": 1
}
